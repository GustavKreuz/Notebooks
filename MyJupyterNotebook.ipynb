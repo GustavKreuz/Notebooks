{
    "cells": [
        {
            "metadata": {
                "collapsed": true
            },
            "cell_type": "markdown",
            "source": "# My Jupyter Notebook on IBM Watson Studio"
        },
        {
            "metadata": {},
            "cell_type": "markdown",
            "source": "**Gustavo Adolfo Cruz Rosales**\n\nAnalista de Datos"
        },
        {
            "metadata": {},
            "cell_type": "markdown",
            "source": "_Estoy interesado en la Data Science porque es el siguiente paso en mi carrera profesional como analista de datos_"
        },
        {
            "metadata": {},
            "cell_type": "markdown",
            "source": "### Este c\u00f3digo muestra un ejemplo de un ciclo for en python"
        },
        {
            "metadata": {},
            "cell_type": "code",
            "source": "for i in range(0, 5):\n    print(i)",
            "execution_count": 6,
            "outputs": [
                {
                    "output_type": "stream",
                    "text": "0\n1\n2\n3\n4\n",
                    "name": "stdout"
                }
            ]
        },
        {
            "metadata": {},
            "cell_type": "markdown",
            "source": "* International Business Machines"
        },
        {
            "metadata": {},
            "cell_type": "markdown",
            "source": "![alt text](data:image/png;base64,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 \"Logo IBM\")"
        },
        {
            "metadata": {},
            "cell_type": "markdown",
            "source": "[www.ibm.com](https://www.ibm.com)"
        }
    ],
    "metadata": {
        "kernelspec": {
            "name": "python3",
            "display_name": "Python 3.10",
            "language": "python"
        },
        "language_info": {
            "name": "python",
            "version": "3.10.6",
            "mimetype": "text/x-python",
            "codemirror_mode": {
                "name": "ipython",
                "version": 3
            },
            "pygments_lexer": "ipython3",
            "nbconvert_exporter": "python",
            "file_extension": ".py"
        }
    },
    "nbformat": 4,
    "nbformat_minor": 1
}